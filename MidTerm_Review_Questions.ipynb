{
 "cells": [
  {
   "cell_type": "markdown",
   "metadata": {
    "colab_type": "text",
    "id": "u1YDPNtbdHDj"
   },
   "source": [
    "# PETE 2061 Mid-term Exam (Part 2) \n",
    "\n",
    "## THIS IS DUE BY 9:00 AM TOMORROW (Saturday)"
   ]
  },
  {
   "cell_type": "markdown",
   "metadata": {},
   "source": [
    "## Instructions\n",
    "* You will be video-monitored, and any violation of the LSU Code of Student Conduct will be reported to the Office of Student Advocacy and Accountability (SAA).\n",
    "* This is an open book exam. You may use cheat sheets, lecture notes and lab notebooks in soft or hard copies. \n",
    "* You are not allowed to use the internet or your cell phones. \n",
    "* You can download all lecture materials before the exam starts, but not during the exam.\n",
    "* You are not allowed to start with this section of the finals until the first part is completed.\n",
    "* Make sure you save often, and be sure you know where the file you are working on is being saved."
   ]
  },
  {
   "cell_type": "markdown",
   "metadata": {},
   "source": [
    "1. Well-1 is the only well in a gas reservoir, referred to as \"Reservoir A\". The production rate from Well-1 is assumed to decline following either the exponential or the harmonic decline model. The initial gas rate ($q_i$) from this well is 900000 scf, and its initial decline rate ($D_i$) is 0.15% per day (which is equivalent to 0.0015 per day). Write a Python code that: <br>\n",
    "    a. **[5 points]** Reads in either \"Exp\" or \"Harm\" using the input function, and stores the string typed in by the user into a variable named \"model\". <br>\n",
    "    b. **[10 points]** If the model typed in by the user is \"Exp\", use the appropriate expoonential decline equation to compute the cumulative production for the first 3650 days (10 years) of production. <br>\n",
    "    c. **[5 points]** If the model typed in by the user is \"Harm\", use the  appropriate harmonic decline equation to predict the cumulative production for the first 3650 days (10 years) of production. <br>\n",
    "    d. **[5 points]** Plot the cumulative production versus time, based on the decline model selected. <br>\n",
    "    e. **[5 points]** Compute and display the mean, minimum, maximum and standard deviation of the cumulative production obtained."
   ]
  },
  {
   "cell_type": "code",
   "execution_count": null,
   "metadata": {},
   "outputs": [],
   "source": []
  },
  {
   "cell_type": "code",
   "execution_count": null,
   "metadata": {},
   "outputs": [],
   "source": []
  },
  {
   "cell_type": "markdown",
   "metadata": {},
   "source": [
    "2. (a) **[5 points]** Write a Python code that generates 200 uniformly-distributed random integers beteen 500 and 1000. <br><br>\n",
    "(b) **[10 points]** Store all the numbers that are divisibly by 5 into a list named div5. <br><br>\n",
    "(c) **[5 points]** Create and display a dataframe with two columns: <br>\n",
    "(i) The first column should be titled \"Div5\" and should contain the data in the list named div5. <br>\n",
    "(ii) The second column should be titled \"DivisionResult\" and should contain the result of dividing the numbers in div5 by 5. <br>\n"
   ]
  },
  {
   "cell_type": "code",
   "execution_count": null,
   "metadata": {},
   "outputs": [],
   "source": []
  }
 ],
 "metadata": {
  "colab": {
   "collapsed_sections": [
    "sYQs3O-6dHFb",
    "8sIJ4A57dHFk",
    "_73RPOcBdHFn",
    "h9s2tfPcdHFo",
    "zt4YHVYPdHGR"
   ],
   "include_colab_link": true,
   "name": "Copy of intro-python-colab.ipynb",
   "provenance": [],
   "version": "0.3.2"
  },
  "kernelspec": {
   "display_name": "Python 3",
   "language": "python",
   "name": "python3"
  },
  "language_info": {
   "codemirror_mode": {
    "name": "ipython",
    "version": 3
   },
   "file_extension": ".py",
   "mimetype": "text/x-python",
   "name": "python",
   "nbconvert_exporter": "python",
   "pygments_lexer": "ipython3",
   "version": "3.8.5"
  }
 },
 "nbformat": 4,
 "nbformat_minor": 1
}
